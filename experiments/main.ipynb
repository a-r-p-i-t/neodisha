{
  "cells": [
    {
      "cell_type": "code",
      "execution_count": 1,
      "metadata": {
        "colab": {
          "base_uri": "https://localhost:8080/"
        },
        "id": "-c5c2OJov53Y",
        "outputId": "d91271ee-11d1-4ffc-e58c-e37f6a972c95"
      },
      "outputs": [
        {
          "output_type": "stream",
          "name": "stdout",
          "text": [
            "Requirement already satisfied: ultralytics in /usr/local/lib/python3.10/dist-packages (8.0.140)\n",
            "Requirement already satisfied: matplotlib>=3.2.2 in /usr/local/lib/python3.10/dist-packages (from ultralytics) (3.7.1)\n",
            "Requirement already satisfied: opencv-python>=4.6.0 in /usr/local/lib/python3.10/dist-packages (from ultralytics) (4.7.0.72)\n",
            "Requirement already satisfied: Pillow>=7.1.2 in /usr/local/lib/python3.10/dist-packages (from ultralytics) (8.4.0)\n",
            "Requirement already satisfied: PyYAML>=5.3.1 in /usr/local/lib/python3.10/dist-packages (from ultralytics) (6.0.1)\n",
            "Requirement already satisfied: requests>=2.23.0 in /usr/local/lib/python3.10/dist-packages (from ultralytics) (2.27.1)\n",
            "Requirement already satisfied: scipy>=1.4.1 in /usr/local/lib/python3.10/dist-packages (from ultralytics) (1.10.1)\n",
            "Requirement already satisfied: torch>=1.7.0 in /usr/local/lib/python3.10/dist-packages (from ultralytics) (2.0.1+cu118)\n",
            "Requirement already satisfied: torchvision>=0.8.1 in /usr/local/lib/python3.10/dist-packages (from ultralytics) (0.15.2+cu118)\n",
            "Requirement already satisfied: tqdm>=4.64.0 in /usr/local/lib/python3.10/dist-packages (from ultralytics) (4.65.0)\n",
            "Requirement already satisfied: pandas>=1.1.4 in /usr/local/lib/python3.10/dist-packages (from ultralytics) (1.5.3)\n",
            "Requirement already satisfied: seaborn>=0.11.0 in /usr/local/lib/python3.10/dist-packages (from ultralytics) (0.12.2)\n",
            "Requirement already satisfied: psutil in /usr/local/lib/python3.10/dist-packages (from ultralytics) (5.9.5)\n",
            "Requirement already satisfied: contourpy>=1.0.1 in /usr/local/lib/python3.10/dist-packages (from matplotlib>=3.2.2->ultralytics) (1.1.0)\n",
            "Requirement already satisfied: cycler>=0.10 in /usr/local/lib/python3.10/dist-packages (from matplotlib>=3.2.2->ultralytics) (0.11.0)\n",
            "Requirement already satisfied: fonttools>=4.22.0 in /usr/local/lib/python3.10/dist-packages (from matplotlib>=3.2.2->ultralytics) (4.41.0)\n",
            "Requirement already satisfied: kiwisolver>=1.0.1 in /usr/local/lib/python3.10/dist-packages (from matplotlib>=3.2.2->ultralytics) (1.4.4)\n",
            "Requirement already satisfied: numpy>=1.20 in /usr/local/lib/python3.10/dist-packages (from matplotlib>=3.2.2->ultralytics) (1.22.4)\n",
            "Requirement already satisfied: packaging>=20.0 in /usr/local/lib/python3.10/dist-packages (from matplotlib>=3.2.2->ultralytics) (23.1)\n",
            "Requirement already satisfied: pyparsing>=2.3.1 in /usr/local/lib/python3.10/dist-packages (from matplotlib>=3.2.2->ultralytics) (3.1.0)\n",
            "Requirement already satisfied: python-dateutil>=2.7 in /usr/local/lib/python3.10/dist-packages (from matplotlib>=3.2.2->ultralytics) (2.8.2)\n",
            "Requirement already satisfied: pytz>=2020.1 in /usr/local/lib/python3.10/dist-packages (from pandas>=1.1.4->ultralytics) (2022.7.1)\n",
            "Requirement already satisfied: urllib3<1.27,>=1.21.1 in /usr/local/lib/python3.10/dist-packages (from requests>=2.23.0->ultralytics) (1.26.16)\n",
            "Requirement already satisfied: certifi>=2017.4.17 in /usr/local/lib/python3.10/dist-packages (from requests>=2.23.0->ultralytics) (2023.5.7)\n",
            "Requirement already satisfied: charset-normalizer~=2.0.0 in /usr/local/lib/python3.10/dist-packages (from requests>=2.23.0->ultralytics) (2.0.12)\n",
            "Requirement already satisfied: idna<4,>=2.5 in /usr/local/lib/python3.10/dist-packages (from requests>=2.23.0->ultralytics) (3.4)\n",
            "Requirement already satisfied: filelock in /usr/local/lib/python3.10/dist-packages (from torch>=1.7.0->ultralytics) (3.12.2)\n",
            "Requirement already satisfied: typing-extensions in /usr/local/lib/python3.10/dist-packages (from torch>=1.7.0->ultralytics) (4.7.1)\n",
            "Requirement already satisfied: sympy in /usr/local/lib/python3.10/dist-packages (from torch>=1.7.0->ultralytics) (1.11.1)\n",
            "Requirement already satisfied: networkx in /usr/local/lib/python3.10/dist-packages (from torch>=1.7.0->ultralytics) (3.1)\n",
            "Requirement already satisfied: jinja2 in /usr/local/lib/python3.10/dist-packages (from torch>=1.7.0->ultralytics) (3.1.2)\n",
            "Requirement already satisfied: triton==2.0.0 in /usr/local/lib/python3.10/dist-packages (from torch>=1.7.0->ultralytics) (2.0.0)\n",
            "Requirement already satisfied: cmake in /usr/local/lib/python3.10/dist-packages (from triton==2.0.0->torch>=1.7.0->ultralytics) (3.25.2)\n",
            "Requirement already satisfied: lit in /usr/local/lib/python3.10/dist-packages (from triton==2.0.0->torch>=1.7.0->ultralytics) (16.0.6)\n",
            "Requirement already satisfied: six>=1.5 in /usr/local/lib/python3.10/dist-packages (from python-dateutil>=2.7->matplotlib>=3.2.2->ultralytics) (1.16.0)\n",
            "Requirement already satisfied: MarkupSafe>=2.0 in /usr/local/lib/python3.10/dist-packages (from jinja2->torch>=1.7.0->ultralytics) (2.1.3)\n",
            "Requirement already satisfied: mpmath>=0.19 in /usr/local/lib/python3.10/dist-packages (from sympy->torch>=1.7.0->ultralytics) (1.3.0)\n"
          ]
        }
      ],
      "source": [
        "pip install ultralytics"
      ]
    },
    {
      "cell_type": "code",
      "execution_count": 2,
      "metadata": {
        "colab": {
          "base_uri": "https://localhost:8080/"
        },
        "id": "5t-vejjVwLZ5",
        "outputId": "abc01587-4251-4782-bffb-a98c6281e3c2"
      },
      "outputs": [
        {
          "output_type": "stream",
          "name": "stdout",
          "text": [
            "Collecting git+https://github.com/ChaoningZhang/MobileSAM.git\n",
            "  Cloning https://github.com/ChaoningZhang/MobileSAM.git to /tmp/pip-req-build-8n5v1cri\n",
            "  Running command git clone --filter=blob:none --quiet https://github.com/ChaoningZhang/MobileSAM.git /tmp/pip-req-build-8n5v1cri\n",
            "  Resolved https://github.com/ChaoningZhang/MobileSAM.git to commit 01ea8d0f5590082f0c1ceb0a3e2272593f20154b\n",
            "  Preparing metadata (setup.py) ... \u001b[?25l\u001b[?25hdone\n"
          ]
        }
      ],
      "source": [
        "pip install git+https://github.com/ChaoningZhang/MobileSAM.git"
      ]
    },
    {
      "cell_type": "code",
      "source": [
        "pip install segment_anything"
      ],
      "metadata": {
        "colab": {
          "base_uri": "https://localhost:8080/"
        },
        "id": "apb_lkTsgYWh",
        "outputId": "e505bbc0-7bd8-4ce8-d552-917fbbbf7918"
      },
      "execution_count": 18,
      "outputs": [
        {
          "output_type": "stream",
          "name": "stdout",
          "text": [
            "Collecting segment_anything\n",
            "  Downloading segment_anything-1.0-py3-none-any.whl (36 kB)\n",
            "Installing collected packages: segment_anything\n",
            "Successfully installed segment_anything-1.0\n"
          ]
        }
      ]
    },
    {
      "cell_type": "code",
      "execution_count": 3,
      "metadata": {
        "colab": {
          "base_uri": "https://localhost:8080/"
        },
        "id": "OkPa63O_wQLl",
        "outputId": "c95b24e4-27ae-4611-ff4f-640afd7132de"
      },
      "outputs": [
        {
          "output_type": "stream",
          "name": "stdout",
          "text": [
            "Requirement already satisfied: timm in /usr/local/lib/python3.10/dist-packages (0.9.2)\n",
            "Requirement already satisfied: torch>=1.7 in /usr/local/lib/python3.10/dist-packages (from timm) (2.0.1+cu118)\n",
            "Requirement already satisfied: torchvision in /usr/local/lib/python3.10/dist-packages (from timm) (0.15.2+cu118)\n",
            "Requirement already satisfied: pyyaml in /usr/local/lib/python3.10/dist-packages (from timm) (6.0.1)\n",
            "Requirement already satisfied: huggingface-hub in /usr/local/lib/python3.10/dist-packages (from timm) (0.16.4)\n",
            "Requirement already satisfied: safetensors in /usr/local/lib/python3.10/dist-packages (from timm) (0.3.1)\n",
            "Requirement already satisfied: filelock in /usr/local/lib/python3.10/dist-packages (from torch>=1.7->timm) (3.12.2)\n",
            "Requirement already satisfied: typing-extensions in /usr/local/lib/python3.10/dist-packages (from torch>=1.7->timm) (4.7.1)\n",
            "Requirement already satisfied: sympy in /usr/local/lib/python3.10/dist-packages (from torch>=1.7->timm) (1.11.1)\n",
            "Requirement already satisfied: networkx in /usr/local/lib/python3.10/dist-packages (from torch>=1.7->timm) (3.1)\n",
            "Requirement already satisfied: jinja2 in /usr/local/lib/python3.10/dist-packages (from torch>=1.7->timm) (3.1.2)\n",
            "Requirement already satisfied: triton==2.0.0 in /usr/local/lib/python3.10/dist-packages (from torch>=1.7->timm) (2.0.0)\n",
            "Requirement already satisfied: cmake in /usr/local/lib/python3.10/dist-packages (from triton==2.0.0->torch>=1.7->timm) (3.25.2)\n",
            "Requirement already satisfied: lit in /usr/local/lib/python3.10/dist-packages (from triton==2.0.0->torch>=1.7->timm) (16.0.6)\n",
            "Requirement already satisfied: fsspec in /usr/local/lib/python3.10/dist-packages (from huggingface-hub->timm) (2023.6.0)\n",
            "Requirement already satisfied: requests in /usr/local/lib/python3.10/dist-packages (from huggingface-hub->timm) (2.27.1)\n",
            "Requirement already satisfied: tqdm>=4.42.1 in /usr/local/lib/python3.10/dist-packages (from huggingface-hub->timm) (4.65.0)\n",
            "Requirement already satisfied: packaging>=20.9 in /usr/local/lib/python3.10/dist-packages (from huggingface-hub->timm) (23.1)\n",
            "Requirement already satisfied: numpy in /usr/local/lib/python3.10/dist-packages (from torchvision->timm) (1.22.4)\n",
            "Requirement already satisfied: pillow!=8.3.*,>=5.3.0 in /usr/local/lib/python3.10/dist-packages (from torchvision->timm) (8.4.0)\n",
            "Requirement already satisfied: MarkupSafe>=2.0 in /usr/local/lib/python3.10/dist-packages (from jinja2->torch>=1.7->timm) (2.1.3)\n",
            "Requirement already satisfied: urllib3<1.27,>=1.21.1 in /usr/local/lib/python3.10/dist-packages (from requests->huggingface-hub->timm) (1.26.16)\n",
            "Requirement already satisfied: certifi>=2017.4.17 in /usr/local/lib/python3.10/dist-packages (from requests->huggingface-hub->timm) (2023.5.7)\n",
            "Requirement already satisfied: charset-normalizer~=2.0.0 in /usr/local/lib/python3.10/dist-packages (from requests->huggingface-hub->timm) (2.0.12)\n",
            "Requirement already satisfied: idna<4,>=2.5 in /usr/local/lib/python3.10/dist-packages (from requests->huggingface-hub->timm) (3.4)\n",
            "Requirement already satisfied: mpmath>=0.19 in /usr/local/lib/python3.10/dist-packages (from sympy->torch>=1.7->timm) (1.3.0)\n"
          ]
        }
      ],
      "source": [
        "pip install timm"
      ]
    },
    {
      "cell_type": "code",
      "execution_count": 4,
      "metadata": {
        "id": "V7XbEzvjwR_o"
      },
      "outputs": [],
      "source": [
        "import numpy as np\n",
        "import cv2\n",
        "import os\n",
        "import matplotlib.pyplot as plt\n",
        "import requests\n",
        "import time\n",
        "from ultralytics import YOLO\n",
        "# from segment_anything import sam_model_registry, SamAutomaticMaskGenerator, SamPredictor\n",
        "from mobile_sam import sam_model_registry, SamAutomaticMaskGenerator, SamPredictor\n",
        "\n"
      ]
    },
    {
      "cell_type": "code",
      "execution_count": 5,
      "metadata": {
        "colab": {
          "base_uri": "https://localhost:8080/"
        },
        "id": "vlS03lIGwXDW",
        "outputId": "51a3fdb2-01b0-45dc-8d53-409db05393e7"
      },
      "outputs": [
        {
          "output_type": "stream",
          "name": "stdout",
          "text": [
            "Mounted at /content/drive\n"
          ]
        }
      ],
      "source": [
        "from google.colab import drive\n",
        "drive.mount('/content/drive',force_remount=True)"
      ]
    },
    {
      "cell_type": "code",
      "execution_count": 20,
      "metadata": {
        "id": "A2eDV0Afx5c6"
      },
      "outputs": [],
      "source": [
        "sam_checkpoint = \"/content/drive/MyDrive/sam_vit_h_4b8939.pth\"\n",
        "# sam_checkpoint = \"/content/drive/MyDrive/mobile_sam.pt\"\n",
        "model_type = \"vit_h\"\n",
        "# model_type = \"vit_t\"\n",
        "device=\"cuda\"\n",
        "sam = sam_model_registry[model_type](checkpoint=sam_checkpoint)\n",
        "sam.to(device=device)\n",
        "predictor = SamPredictor(sam)"
      ]
    },
    {
      "cell_type": "code",
      "execution_count": 7,
      "metadata": {
        "id": "ADxELG-Rx8We"
      },
      "outputs": [],
      "source": [
        "def show_mask(mask, ax, random_color=False):\n",
        "    if random_color:\n",
        "        color = np.concatenate([np.random.random(3), np.array([0.6])], axis=0)\n",
        "    else:\n",
        "        color = np.array([30/255, 144/255, 255/255, 0.6])\n",
        "    h, w = mask.shape[-2:]\n",
        "    mask_image = mask.reshape(h, w, 1) * color.reshape(1, 1, -1)\n",
        "    ax.imshow(mask_image)"
      ]
    },
    {
      "cell_type": "code",
      "execution_count": 8,
      "metadata": {
        "id": "e1Yn5AEWyDVv"
      },
      "outputs": [],
      "source": [
        "def show_points(coords, labels, ax, marker_size=375):\n",
        "    pos_points = coords[labels==1]\n",
        "    neg_points = coords[labels==0]\n",
        "    ax.scatter(pos_points[:, 0], pos_points[:, 1], color='green', marker='*', s=marker_size, edgecolor='white', linewidth=1.25)\n",
        "    ax.scatter(neg_points[:, 0], neg_points[:, 1], color='red', marker='*', s=marker_size, edgecolor='white', linewidth=1.25)"
      ]
    },
    {
      "cell_type": "code",
      "execution_count": 9,
      "metadata": {
        "id": "-mgbtMY9yHQJ"
      },
      "outputs": [],
      "source": [
        "def show_box(box, ax):\n",
        "    x0, y0 = box[0], box[1]\n",
        "    w, h = box[2] - box[0], box[3] - box[1]\n",
        "    ax.add_patch(plt.Rectangle((x0, y0), w, h, edgecolor='green', facecolor=(0,0,0,0), lw=2))\n"
      ]
    },
    {
      "cell_type": "code",
      "execution_count": 10,
      "metadata": {
        "id": "2stEvVMIyJXR"
      },
      "outputs": [],
      "source": [
        "def normalize_points(contour_points, image_width, image_height):\n",
        "    # Normalize the points\n",
        "    normalized_points = contour_points.astype(float) / np.array([image_width, image_height])\n",
        "    return normalized_points"
      ]
    },
    {
      "cell_type": "code",
      "execution_count": 11,
      "metadata": {
        "id": "xUZo3szsyLN9"
      },
      "outputs": [],
      "source": [
        "def convert_contour_to_yolov8(contour_points, class_index):\n",
        "    # Flatten the contour points to a 1D array\n",
        "    flattened_points = contour_points.reshape(-1, 2)\n",
        "\n",
        "    # Create YOLOv8 label string\n",
        "    label_string = f\"{class_index}\"\n",
        "    for point in flattened_points:\n",
        "        label_string += f\" {point[0]} {point[1]}\"\n",
        "    return label_string"
      ]
    },
    {
      "cell_type": "code",
      "execution_count": 12,
      "metadata": {
        "id": "D7l24cAxyNUw"
      },
      "outputs": [],
      "source": [
        "def download_image_from_drive(url, destination):\n",
        "    response = requests.get(url)\n",
        "    response.raise_for_status()\n",
        "    with open(destination, 'wb') as file:\n",
        "        file.write(response.content)\n",
        "    print(\"Image downloaded successfully.\")\n",
        "\n"
      ]
    },
    {
      "cell_type": "code",
      "execution_count": 13,
      "metadata": {
        "id": "u2q_ZiYtyfZ2"
      },
      "outputs": [],
      "source": [
        "def load_model(model_path):\n",
        "    model=YOLO(model=model_path)\n",
        "    return model"
      ]
    },
    {
      "cell_type": "code",
      "execution_count": 14,
      "metadata": {
        "id": "QCYJN69lyPP8"
      },
      "outputs": [],
      "source": [
        "def extract_roi(image_path,coord_list):\n",
        "    image=cv2.imread(image_path)\n",
        "    im=image.copy()\n",
        "    print(\"Coord List:\", coord_list)\n",
        "    x1, y1, x2, y2 = coord_list\n",
        "    roi = im[y1:y2, x1:x2]\n",
        "    # roi = image[y2:y1, x1:x2]\n",
        "    return roi"
      ]
    },
    {
      "cell_type": "code",
      "execution_count": 15,
      "metadata": {
        "id": "8R484E4HyTaN"
      },
      "outputs": [],
      "source": [
        "def extract_labels(roi,model):\n",
        "\n",
        "    img_dir=\"/content/drive/MyDrive/data/images/\"\n",
        "    img_list = os.listdir(img_dir)\n",
        "    img_list.sort()\n",
        "    image_path=img_dir + img_list[0]\n",
        "    print(image_path)\n",
        "    print(img_list[0])\n",
        "\n",
        "    results=model.predict(source=roi,conf=0.5,save=True,show_labels=False)\n",
        "    contours=[]\n",
        "    # boxes=result.boxes\n",
        "    for result in results:\n",
        "        boxes = result.boxes\n",
        "\n",
        "    i = 0\n",
        "    label_string_list =[]\n",
        "    while i < len(boxes.xyxy.tolist()):\n",
        "        bbox = boxes.xyxy.tolist()[i]\n",
        "        class_id = boxes.cls.tolist()[i]\n",
        "        # print(bbox)\n",
        "\n",
        "        # image = cv2.cvtColor(cv2.imread(roi), cv2.COLOR_BGR2RGB)\n",
        "        predictor.set_image(roi)\n",
        "        input_box = np.array(bbox)\n",
        "        masks, _, _ = predictor.predict(\n",
        "            point_coords=None,\n",
        "            point_labels=None,\n",
        "            box=input_box,\n",
        "            multimask_output=False,\n",
        "        )\n",
        "        # print(masks)\n",
        "        mask = masks[0]\n",
        "        # print(mask)\n",
        "        contour, _ = cv2.findContours(mask.astype(np.uint8), cv2.RETR_EXTERNAL, cv2.CHAIN_APPROX_SIMPLE)\n",
        "        contours.extend(contour)\n",
        "\n",
        "        contour_points = contours[i]\n",
        "        class_index = int(class_id)\n",
        "        image_height, image_width = roi.shape[:2]\n",
        "\n",
        "        normalized_points = normalize_points(contour_points, image_width, image_height)\n",
        "        label_string = convert_contour_to_yolov8(normalized_points, class_index)\n",
        "        label_string_list.append(label_string)\n",
        "        i += 1\n",
        "    return label_string_list\n",
        "    # output_path =image_path.split(\".\")[0] + '.txt'\n",
        "    # print(output_path)\n",
        "    # with open(output_path, 'w') as file:\n",
        "    #     for item in label_string_list:\n",
        "    #         file.write(str(item) + '\\n')\n"
      ]
    },
    {
      "cell_type": "code",
      "execution_count": 22,
      "metadata": {
        "colab": {
          "base_uri": "https://localhost:8080/"
        },
        "id": "OqLOV3dwyVuY",
        "outputId": "0c7669bb-7bac-4089-de32-3b51124f1f47"
      },
      "outputs": [
        {
          "output_type": "stream",
          "name": "stdout",
          "text": [
            "Image downloaded successfully.\n",
            "Coord List: [1046, 298, 1152, 419]\n",
            "/content/drive/MyDrive/data/images/images0.jpg\n",
            "images0.jpg\n"
          ]
        },
        {
          "output_type": "stream",
          "name": "stderr",
          "text": [
            "\n",
            "0: 640x576 1 object, 18.7ms\n",
            "Speed: 2.8ms preprocess, 18.7ms inference, 1.9ms postprocess per image at shape (1, 3, 640, 576)\n",
            "Results saved to \u001b[1mruns/detect/predict8\u001b[0m\n",
            "\n",
            "0: 480x640 3 objects, 10.1ms\n",
            "Speed: 3.4ms preprocess, 10.1ms inference, 1.9ms postprocess per image at shape (1, 3, 480, 640)\n",
            "Results saved to \u001b[1mruns/detect/predict8\u001b[0m\n"
          ]
        },
        {
          "output_type": "stream",
          "name": "stdout",
          "text": [
            "/content/drive/MyDrive/data/images/images00.txt\n",
            "Number of emptys: 0\n",
            "Number of objects: 1\n",
            "Coord List: [720, 217, 862, 320]\n",
            "/content/drive/MyDrive/data/images/images0.jpg\n",
            "images0.jpg\n"
          ]
        },
        {
          "output_type": "stream",
          "name": "stderr",
          "text": [
            "\n",
            "0: 512x640 3 objects, 7.6ms\n",
            "Speed: 2.1ms preprocess, 7.6ms inference, 1.6ms postprocess per image at shape (1, 3, 512, 640)\n",
            "Results saved to \u001b[1mruns/detect/predict8\u001b[0m\n"
          ]
        },
        {
          "output_type": "stream",
          "name": "stdout",
          "text": [
            "/content/drive/MyDrive/data/images/images01.txt\n",
            "Number of emptys: 0\n",
            "Number of objects: 3\n",
            "Coord List: [755, 351, 899, 463]\n",
            "/content/drive/MyDrive/data/images/images0.jpg\n",
            "images0.jpg\n"
          ]
        },
        {
          "output_type": "stream",
          "name": "stderr",
          "text": [
            "\n",
            "0: 448x640 5 objects, 15.6ms\n",
            "Speed: 2.2ms preprocess, 15.6ms inference, 2.4ms postprocess per image at shape (1, 3, 448, 640)\n",
            "Results saved to \u001b[1mruns/detect/predict8\u001b[0m\n"
          ]
        },
        {
          "output_type": "stream",
          "name": "stdout",
          "text": [
            "/content/drive/MyDrive/data/images/images02.txt\n",
            "Number of emptys: 0\n",
            "Number of objects: 3\n",
            "Coord List: [689, 85, 832, 184]\n",
            "/content/drive/MyDrive/data/images/images0.jpg\n",
            "images0.jpg\n"
          ]
        },
        {
          "output_type": "stream",
          "name": "stderr",
          "text": [
            "\n",
            "0: 320x640 3 objects, 10.7ms\n",
            "Speed: 2.0ms preprocess, 10.7ms inference, 1.5ms postprocess per image at shape (1, 3, 320, 640)\n",
            "Results saved to \u001b[1mruns/detect/predict8\u001b[0m\n"
          ]
        },
        {
          "output_type": "stream",
          "name": "stdout",
          "text": [
            "/content/drive/MyDrive/data/images/images03.txt\n",
            "Number of emptys: 0\n",
            "Number of objects: 5\n",
            "Coord List: [355, 446, 568, 548]\n",
            "/content/drive/MyDrive/data/images/images0.jpg\n",
            "images0.jpg\n"
          ]
        },
        {
          "output_type": "stream",
          "name": "stderr",
          "text": [
            "\n",
            "0: 352x640 3 objects, 7.9ms\n",
            "Speed: 5.3ms preprocess, 7.9ms inference, 1.5ms postprocess per image at shape (1, 3, 352, 640)\n",
            "Results saved to \u001b[1mruns/detect/predict8\u001b[0m\n"
          ]
        },
        {
          "output_type": "stream",
          "name": "stdout",
          "text": [
            "/content/drive/MyDrive/data/images/images04.txt\n",
            "Number of emptys: 0\n",
            "Number of objects: 3\n",
            "Coord List: [583, 403, 754, 492]\n",
            "/content/drive/MyDrive/data/images/images0.jpg\n",
            "images0.jpg\n"
          ]
        },
        {
          "output_type": "stream",
          "name": "stderr",
          "text": [
            "\n",
            "0: 480x640 5 objects, 4 emptys, 8.1ms\n",
            "Speed: 5.0ms preprocess, 8.1ms inference, 1.5ms postprocess per image at shape (1, 3, 480, 640)\n",
            "Results saved to \u001b[1mruns/detect/predict8\u001b[0m\n"
          ]
        },
        {
          "output_type": "stream",
          "name": "stdout",
          "text": [
            "/content/drive/MyDrive/data/images/images05.txt\n",
            "Number of emptys: 0\n",
            "Number of objects: 3\n",
            "Coord List: [0, 57, 258, 239]\n",
            "/content/drive/MyDrive/data/images/images0.jpg\n",
            "images0.jpg\n"
          ]
        },
        {
          "output_type": "stream",
          "name": "stderr",
          "text": [
            "\n",
            "0: 288x640 3 objects, 13.2ms\n",
            "Speed: 2.1ms preprocess, 13.2ms inference, 2.0ms postprocess per image at shape (1, 3, 288, 640)\n",
            "Results saved to \u001b[1mruns/detect/predict8\u001b[0m\n"
          ]
        },
        {
          "output_type": "stream",
          "name": "stdout",
          "text": [
            "/content/drive/MyDrive/data/images/images06.txt\n",
            "Number of emptys: 4\n",
            "Number of objects: 5\n",
            "Coord List: [545, 254, 715, 328]\n",
            "/content/drive/MyDrive/data/images/images0.jpg\n",
            "images0.jpg\n"
          ]
        },
        {
          "output_type": "stream",
          "name": "stderr",
          "text": [
            "\n",
            "0: 448x640 5 objects, 14.5ms\n",
            "Speed: 3.7ms preprocess, 14.5ms inference, 2.3ms postprocess per image at shape (1, 3, 448, 640)\n",
            "Results saved to \u001b[1mruns/detect/predict8\u001b[0m\n"
          ]
        },
        {
          "output_type": "stream",
          "name": "stdout",
          "text": [
            "/content/drive/MyDrive/data/images/images07.txt\n",
            "Number of emptys: 0\n",
            "Number of objects: 3\n",
            "Coord List: [277, 62, 489, 209]\n",
            "/content/drive/MyDrive/data/images/images0.jpg\n",
            "images0.jpg\n"
          ]
        },
        {
          "output_type": "stream",
          "name": "stderr",
          "text": [
            "\n",
            "0: 544x640 10 objects, 15.0ms\n",
            "Speed: 2.9ms preprocess, 15.0ms inference, 2.3ms postprocess per image at shape (1, 3, 544, 640)\n",
            "Results saved to \u001b[1mruns/detect/predict8\u001b[0m\n"
          ]
        },
        {
          "output_type": "stream",
          "name": "stdout",
          "text": [
            "/content/drive/MyDrive/data/images/images08.txt\n",
            "Number of emptys: 0\n",
            "Number of objects: 5\n",
            "Coord List: [888, 184, 1026, 297]\n",
            "/content/drive/MyDrive/data/images/images0.jpg\n",
            "images0.jpg\n"
          ]
        },
        {
          "output_type": "stream",
          "name": "stderr",
          "text": [
            "\n",
            "0: 384x640 10 emptys, 11.4ms\n",
            "Speed: 3.5ms preprocess, 11.4ms inference, 2.1ms postprocess per image at shape (1, 3, 384, 640)\n",
            "Results saved to \u001b[1mruns/detect/predict8\u001b[0m\n"
          ]
        },
        {
          "output_type": "stream",
          "name": "stdout",
          "text": [
            "/content/drive/MyDrive/data/images/images09.txt\n",
            "Number of emptys: 0\n",
            "Number of objects: 10\n",
            "Coord List: [15, 278, 290, 436]\n",
            "/content/drive/MyDrive/data/images/images0.jpg\n",
            "images0.jpg\n"
          ]
        },
        {
          "output_type": "stream",
          "name": "stderr",
          "text": [
            "\n",
            "0: 448x640 9 objects, 10.3ms\n",
            "Speed: 2.3ms preprocess, 10.3ms inference, 2.1ms postprocess per image at shape (1, 3, 448, 640)\n",
            "Results saved to \u001b[1mruns/detect/predict8\u001b[0m\n"
          ]
        },
        {
          "output_type": "stream",
          "name": "stdout",
          "text": [
            "/content/drive/MyDrive/data/images/images010.txt\n",
            "Number of emptys: 10\n",
            "Number of objects: 0\n",
            "Coord List: [978, 75, 1112, 165]\n",
            "/content/drive/MyDrive/data/images/images0.jpg\n",
            "images0.jpg\n"
          ]
        },
        {
          "output_type": "stream",
          "name": "stderr",
          "text": [
            "\n",
            "0: 416x640 6 emptys, 15.3ms\n",
            "Speed: 2.4ms preprocess, 15.3ms inference, 2.1ms postprocess per image at shape (1, 3, 416, 640)\n",
            "Results saved to \u001b[1mruns/detect/predict8\u001b[0m\n"
          ]
        },
        {
          "output_type": "stream",
          "name": "stdout",
          "text": [
            "/content/drive/MyDrive/data/images/images011.txt\n",
            "Number of emptys: 0\n",
            "Number of objects: 9\n",
            "Coord List: [48, 466, 327, 645]\n",
            "/content/drive/MyDrive/data/images/images0.jpg\n",
            "images0.jpg\n"
          ]
        },
        {
          "output_type": "stream",
          "name": "stderr",
          "text": [
            "\n",
            "0: 576x640 3 objects, 9.3ms\n",
            "Speed: 5.4ms preprocess, 9.3ms inference, 1.6ms postprocess per image at shape (1, 3, 576, 640)\n",
            "Results saved to \u001b[1mruns/detect/predict8\u001b[0m\n"
          ]
        },
        {
          "output_type": "stream",
          "name": "stdout",
          "text": [
            "/content/drive/MyDrive/data/images/images012.txt\n",
            "Number of emptys: 6\n",
            "Number of objects: 0\n",
            "Coord List: [920, 314, 1044, 423]\n",
            "/content/drive/MyDrive/data/images/images0.jpg\n",
            "images0.jpg\n"
          ]
        },
        {
          "output_type": "stream",
          "name": "stderr",
          "text": [
            "\n",
            "0: 640x576 1 object, 9.4ms\n",
            "Speed: 2.6ms preprocess, 9.4ms inference, 1.4ms postprocess per image at shape (1, 3, 640, 576)\n",
            "Results saved to \u001b[1mruns/detect/predict8\u001b[0m\n"
          ]
        },
        {
          "output_type": "stream",
          "name": "stdout",
          "text": [
            "/content/drive/MyDrive/data/images/images013.txt\n",
            "Number of emptys: 0\n",
            "Number of objects: 3\n",
            "Coord List: [1046, 298, 1152, 419]\n",
            "/content/drive/MyDrive/data/images/images0.jpg\n",
            "images0.jpg\n",
            "/content/drive/MyDrive/data/images/images014.txt\n",
            "Number of emptys: 0\n",
            "Number of objects: 1\n"
          ]
        },
        {
          "output_type": "stream",
          "name": "stderr",
          "text": [
            "\n"
          ]
        },
        {
          "output_type": "stream",
          "name": "stdout",
          "text": [
            "Image downloaded successfully.\n",
            "Coord List: [1689, 1499, 2384, 1907]\n",
            "/content/drive/MyDrive/data/images/images0.jpg\n",
            "images0.jpg\n"
          ]
        },
        {
          "output_type": "stream",
          "name": "stderr",
          "text": [
            "0: 384x640 3 objects, 15.0ms\n",
            "Speed: 3.0ms preprocess, 15.0ms inference, 4.2ms postprocess per image at shape (1, 3, 384, 640)\n",
            "Results saved to \u001b[1mruns/detect/predict8\u001b[0m\n",
            "\n",
            "0: 384x640 3 objects, 10.1ms\n",
            "Speed: 2.8ms preprocess, 10.1ms inference, 2.1ms postprocess per image at shape (1, 3, 384, 640)\n",
            "Results saved to \u001b[1mruns/detect/predict8\u001b[0m\n"
          ]
        },
        {
          "output_type": "stream",
          "name": "stdout",
          "text": [
            "/content/drive/MyDrive/data/images/images10.txt\n",
            "Number of emptys: 0\n",
            "Number of objects: 3\n",
            "Coord List: [2442, 1488, 3153, 1906]\n",
            "/content/drive/MyDrive/data/images/images0.jpg\n",
            "images0.jpg\n"
          ]
        },
        {
          "output_type": "stream",
          "name": "stderr",
          "text": [
            "\n"
          ]
        },
        {
          "output_type": "stream",
          "name": "stdout",
          "text": [
            "/content/drive/MyDrive/data/images/images11.txt\n",
            "Number of emptys: 0\n",
            "Number of objects: 3\n",
            "Coord List: [922, 1498, 1636, 1914]\n",
            "/content/drive/MyDrive/data/images/images0.jpg\n",
            "images0.jpg\n"
          ]
        },
        {
          "output_type": "stream",
          "name": "stderr",
          "text": [
            "0: 384x640 3 objects, 24.9ms\n",
            "Speed: 2.8ms preprocess, 24.9ms inference, 2.0ms postprocess per image at shape (1, 3, 384, 640)\n",
            "Results saved to \u001b[1mruns/detect/predict8\u001b[0m\n",
            "\n",
            "0: 416x640 4 objects, 9.5ms\n",
            "Speed: 4.0ms preprocess, 9.5ms inference, 1.5ms postprocess per image at shape (1, 3, 416, 640)\n",
            "Results saved to \u001b[1mruns/detect/predict8\u001b[0m\n"
          ]
        },
        {
          "output_type": "stream",
          "name": "stdout",
          "text": [
            "/content/drive/MyDrive/data/images/images12.txt\n",
            "Number of emptys: 0\n",
            "Number of objects: 3\n",
            "Coord List: [853, 618, 1599, 1069]\n",
            "/content/drive/MyDrive/data/images/images0.jpg\n",
            "images0.jpg\n"
          ]
        },
        {
          "output_type": "stream",
          "name": "stderr",
          "text": [
            "\n"
          ]
        },
        {
          "output_type": "stream",
          "name": "stdout",
          "text": [
            "/content/drive/MyDrive/data/images/images13.txt\n",
            "Number of emptys: 0\n",
            "Number of objects: 4\n",
            "Coord List: [2469, 669, 3249, 983]\n",
            "/content/drive/MyDrive/data/images/images0.jpg\n",
            "images0.jpg\n"
          ]
        },
        {
          "output_type": "stream",
          "name": "stderr",
          "text": [
            "0: 288x640 3 objects, 14.4ms\n",
            "Speed: 2.4ms preprocess, 14.4ms inference, 1.8ms postprocess per image at shape (1, 3, 288, 640)\n",
            "Results saved to \u001b[1mruns/detect/predict8\u001b[0m\n",
            "\n",
            "0: 640x640 1 object, 1 empty, 12.2ms\n",
            "Speed: 3.8ms preprocess, 12.2ms inference, 1.5ms postprocess per image at shape (1, 3, 640, 640)\n",
            "Results saved to \u001b[1mruns/detect/predict8\u001b[0m\n"
          ]
        },
        {
          "output_type": "stream",
          "name": "stdout",
          "text": [
            "/content/drive/MyDrive/data/images/images14.txt\n",
            "Number of emptys: 0\n",
            "Number of objects: 3\n",
            "Coord List: [3551, 1577, 3838, 1877]\n",
            "/content/drive/MyDrive/data/images/images0.jpg\n",
            "images0.jpg\n",
            "/content/drive/MyDrive/data/images/images15.txt\n",
            "Number of emptys: 1\n",
            "Number of objects: 1\n",
            "Total Time : 195.07569551467896\n",
            "{'url': ['images0.jpg', 'images1.jpg'], 'coordinates': [[[1046, 298, 1152, 419], [720, 217, 862, 320], [755, 351, 899, 463], [689, 85, 832, 184], [355, 446, 568, 548], [583, 403, 754, 492], [0, 57, 258, 239], [545, 254, 715, 328], [277, 62, 489, 209], [888, 184, 1026, 297], [15, 278, 290, 436], [978, 75, 1112, 165], [48, 466, 327, 645], [920, 314, 1044, 423], [1046, 298, 1152, 419]], [[1689, 1499, 2384, 1907], [2442, 1488, 3153, 1906], [922, 1498, 1636, 1914], [853, 618, 1599, 1069], [2469, 669, 3249, 983], [3551, 1577, 3838, 1877]]], 'fullness': [[{'objects0': 0, 'emptys0': 1, 'fullness0': '0.0%'}, {'objects1': 0, 'emptys1': 3, 'fullness1': '0.0%'}, {'objects2': 0, 'emptys2': 3, 'fullness2': '0.0%'}, {'objects3': 0, 'emptys3': 5, 'fullness3': '0.0%'}, {'objects4': 0, 'emptys4': 3, 'fullness4': '0.0%'}, {'objects5': 0, 'emptys5': 3, 'fullness5': '0.0%'}, {'objects6': 4, 'emptys6': 5, 'fullness6': '44.44%'}, {'objects7': 0, 'emptys7': 3, 'fullness7': '0.0%'}, {'objects8': 0, 'emptys8': 5, 'fullness8': '0.0%'}, {'objects9': 0, 'emptys9': 10, 'fullness9': '0.0%'}, {'objects10': 10, 'emptys10': 0, 'fullness10': '100.0%'}, {'objects11': 0, 'emptys11': 9, 'fullness11': '0.0%'}, {'objects12': 6, 'emptys12': 0, 'fullness12': '100.0%'}, {'objects13': 0, 'emptys13': 3, 'fullness13': '0.0%'}, {'objects14': 0, 'emptys14': 1, 'fullness14': '0.0%'}], [{'objects0': 0, 'emptys0': 3, 'fullness0': '0.0%'}, {'objects1': 0, 'emptys1': 3, 'fullness1': '0.0%'}, {'objects2': 0, 'emptys2': 3, 'fullness2': '0.0%'}, {'objects3': 0, 'emptys3': 4, 'fullness3': '0.0%'}, {'objects4': 0, 'emptys4': 3, 'fullness4': '0.0%'}, {'objects5': 1, 'emptys5': 1, 'fullness5': '50.0%'}]]}\n"
          ]
        }
      ],
      "source": [
        "start_time=time.time()\n",
        "model_path=\"/content/drive/MyDrive/best_detect.pt\"\n",
        "model=load_model(model_path)\n",
        "\n",
        "bounding_box_list=[[[1046, 298, 1152, 419],[720,217,862,320],[755,351,899,463],[689,85,832,184],[355,446,568,548],[583,403,754,492],[0,57,258,239],[545,254,715,328],[277,62,489,209],[888,184,1026,297],[15,278,290,436],[978,75,1112,165],[48,466,327,645],[920,314,1044,423],[1046,298,1152,419]],[[1689,1499,2384,1907],[2442,1488,3153,1906],[922,1498,1636,1914],[853,618,1599,1069],[2469,669,3249,983],[3551,1577,3838,1877]]]\n",
        "fetch_dict={}\n",
        "image_url_list = [\"https://drive.google.com/uc?id=1RjaSIfNz11fcRvWgL1ER4ZWttxIZ8zzY\",\"https://drive.google.com/uc?id=1TDsRtmbeou95BvQ1qK26wxc9tw9VXoSN\"]\n",
        "\n",
        "fetch_dict[\"url\"]=[]\n",
        "fetch_dict[\"coordinates\"]=[]\n",
        "fetch_dict[\"fullness\"]=[]\n",
        "\n",
        "\n",
        "for k in range(len(image_url_list)):\n",
        "  destination_path = f\"/content/drive/MyDrive/data/images/images{k}.jpg\"\n",
        "  fetch_dict[\"url\"].append(destination_path.split(\"/\")[-1])\n",
        "  inst_bounding_box_list=bounding_box_list[k]\n",
        "  fetch_dict[\"coordinates\"].append(inst_bounding_box_list)\n",
        "\n",
        "  download_image_from_drive(image_url_list[k], destination_path)\n",
        "\n",
        "  fullness_list=[]\n",
        "  for i in range(len(inst_bounding_box_list)):\n",
        "    count_dict={}\n",
        "    amb=\"None\"\n",
        "\n",
        "    roi=extract_roi(destination_path,inst_bounding_box_list[i])\n",
        "    label_string_list=extract_labels(roi,model)\n",
        "    output_path =destination_path.split(\".\")[0] + f'{i}.txt'\n",
        "    print(output_path)\n",
        "    with open(output_path, 'w') as file:\n",
        "        for item in label_string_list:\n",
        "              file.write(str(item) + '\\n')\n",
        "    file.close()\n",
        "    with open(output_path, 'r') as file:\n",
        "        lines = file.readlines()\n",
        "        num_ones = 0\n",
        "        num_zeros = 0\n",
        "        for line in lines:\n",
        "          line_list = line.split()\n",
        "          class_label = int(line_list[0])\n",
        "          if class_label == 1:\n",
        "              num_ones += 1\n",
        "          elif class_label == 0:\n",
        "              num_zeros += 1\n",
        "    print(\"Number of emptys:\", num_ones)\n",
        "    print(\"Number of objects:\", num_zeros)\n",
        "    count_dict[f\"objects{i}\"]=num_ones\n",
        "    count_dict[f\"emptys{i}\"]=num_zeros\n",
        "    if amb==\"None\":\n",
        "      total_count=num_ones + num_zeros\n",
        "    else:\n",
        "      total_count=amb\n",
        "    fullness=f\"{round((num_ones/total_count)*100,2)}%\"\n",
        "    count_dict[f\"fullness{i}\"]=fullness\n",
        "    # fetch_dict.update(count_dict)\n",
        "    fullness_list.append(count_dict)\n",
        "  fetch_dict[\"fullness\"].append(fullness_list)\n",
        "\n",
        "end_time=time.time()\n",
        "print(\"Total Time :\",end_time-start_time)\n",
        "print(fetch_dict)\n",
        "\n",
        "\n",
        "\n",
        "\n"
      ]
    }
  ],
  "metadata": {
    "accelerator": "GPU",
    "colab": {
      "provenance": []
    },
    "kernelspec": {
      "display_name": "Python 3",
      "name": "python3"
    },
    "language_info": {
      "name": "python"
    }
  },
  "nbformat": 4,
  "nbformat_minor": 0
}